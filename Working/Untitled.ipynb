{
 "cells": [
  {
   "cell_type": "code",
   "execution_count": 1,
   "metadata": {},
   "outputs": [],
   "source": [
    "from sklearn.svm import OneClassSVM\n",
    "from sklearn.metrics import f1_score, precision_score, recall_score\n",
    "import sys\n",
    "from joblib import dump, load \n",
    "import csv"
   ]
  },
  {
   "cell_type": "code",
   "execution_count": 2,
   "metadata": {},
   "outputs": [
    {
     "ename": "NameError",
     "evalue": "name 'np' is not defined",
     "output_type": "error",
     "traceback": [
      "\u001b[0;31m---------------------------------------------------------------------------\u001b[0m",
      "\u001b[0;31mNameError\u001b[0m                                 Traceback (most recent call last)",
      "\u001b[0;32m<ipython-input-2-1917618f95da>\u001b[0m in \u001b[0;36m<module>\u001b[0;34m\u001b[0m\n\u001b[0;32m----> 1\u001b[0;31m \u001b[0mtrain\u001b[0m \u001b[0;34m=\u001b[0m \u001b[0mnp\u001b[0m\u001b[0;34m.\u001b[0m\u001b[0mloadtxt\u001b[0m\u001b[0;34m(\u001b[0m\u001b[0msys\u001b[0m\u001b[0;34m.\u001b[0m\u001b[0margv\u001b[0m\u001b[0;34m[\u001b[0m\u001b[0;36m1\u001b[0m\u001b[0;34m]\u001b[0m\u001b[0;34m,\u001b[0m \u001b[0mdelimiter\u001b[0m\u001b[0;34m=\u001b[0m\u001b[0;34m\",\"\u001b[0m\u001b[0;34m)\u001b[0m\u001b[0;34m\u001b[0m\u001b[0;34m\u001b[0m\u001b[0m\n\u001b[0m\u001b[1;32m      2\u001b[0m \u001b[0mdata\u001b[0m \u001b[0;34m=\u001b[0m \u001b[0mnp\u001b[0m\u001b[0;34m.\u001b[0m\u001b[0mloadtxt\u001b[0m\u001b[0;34m(\u001b[0m\u001b[0msys\u001b[0m\u001b[0;34m.\u001b[0m\u001b[0margv\u001b[0m\u001b[0;34m[\u001b[0m\u001b[0;36m2\u001b[0m\u001b[0;34m]\u001b[0m\u001b[0;34m,\u001b[0m \u001b[0mdelimiter\u001b[0m\u001b[0;34m=\u001b[0m\u001b[0;34m\",\"\u001b[0m\u001b[0;34m)\u001b[0m\u001b[0;34m\u001b[0m\u001b[0;34m\u001b[0m\u001b[0m\n\u001b[1;32m      3\u001b[0m \u001b[0mlabels\u001b[0m \u001b[0;34m=\u001b[0m \u001b[0mnp\u001b[0m\u001b[0;34m.\u001b[0m\u001b[0mloadtxt\u001b[0m\u001b[0;34m(\u001b[0m\u001b[0msys\u001b[0m\u001b[0;34m.\u001b[0m\u001b[0margv\u001b[0m\u001b[0;34m[\u001b[0m\u001b[0;36m3\u001b[0m\u001b[0;34m]\u001b[0m\u001b[0;34m,\u001b[0m \u001b[0mdelimiter\u001b[0m\u001b[0;34m=\u001b[0m\u001b[0;34m\",\"\u001b[0m\u001b[0;34m)\u001b[0m\u001b[0;34m\u001b[0m\u001b[0;34m\u001b[0m\u001b[0m\n",
      "\u001b[0;31mNameError\u001b[0m: name 'np' is not defined"
     ]
    }
   ],
   "source": [
    "train = np.loadtxt(sys.argv[1], delimiter=\",\")\n",
    "data = np.loadtxt(sys.argv[2], delimiter=\",\")\n",
    "labels = np.loadtxt(sys.argv[3], delimiter=\",\")"
   ]
  },
  {
   "cell_type": "code",
   "execution_count": 3,
   "metadata": {},
   "outputs": [
    {
     "ename": "NameError",
     "evalue": "name 'train' is not defined",
     "output_type": "error",
     "traceback": [
      "\u001b[0;31m---------------------------------------------------------------------------\u001b[0m",
      "\u001b[0;31mNameError\u001b[0m                                 Traceback (most recent call last)",
      "\u001b[0;32m<ipython-input-3-3536571a9bc3>\u001b[0m in \u001b[0;36m<module>\u001b[0;34m\u001b[0m\n\u001b[0;32m----> 1\u001b[0;31m \u001b[0mtrain\u001b[0m\u001b[0;34m\u001b[0m\u001b[0;34m\u001b[0m\u001b[0m\n\u001b[0m",
      "\u001b[0;31mNameError\u001b[0m: name 'train' is not defined"
     ]
    }
   ],
   "source": [
    "train"
   ]
  },
  {
   "cell_type": "code",
   "execution_count": 4,
   "metadata": {},
   "outputs": [
    {
     "name": "stdout",
     "output_type": "stream",
     "text": [
      "10and10.csv\r\n",
      "10and10Features.csv\r\n",
      "10and10FeaturesSVM.csv\r\n",
      "10and10Labels.csv\r\n",
      "10and10Labels.csv.joblib\r\n",
      "10and10Labels.csvselfF1.csv\r\n",
      "10and10Labels.csvselfPrecision.csv\r\n",
      "10and10Labels.csvselfRecall.csv\r\n",
      "10and10Labels.csvselfResults.csv\r\n",
      "10and10Test.csv\r\n",
      "10and10TestFeatures.csv\r\n",
      "10and10TestFeaturesSVM.csv\r\n",
      "15consensus2non.csv\r\n",
      "15consensus2nonFeatures.csv\r\n",
      "15consensus2nonFeaturesSVM.csv\r\n",
      "15consensus2nonLabels.csv\r\n",
      "15consensus2nonLabels.csv.joblib\r\n",
      "15consensus2nonLabels.csvselfF1.csv\r\n",
      "15consensus2nonLabels.csvselfPrecision.csv\r\n",
      "15consensus2nonLabels.csvselfRecall.csv\r\n",
      "15consensus2nonLabels.csvselfResults.csv\r\n",
      "15Consensus.csv\r\n",
      "15ConsensusFeatures.csv\r\n",
      "15ConsensusFeaturesSVM.csv\r\n",
      "15Consensus.joblib\r\n",
      "15ConsensusLabels.csv\r\n",
      "15ConsensusselfF1.csv\r\n",
      "15ConsensusselfPrecision.csv\r\n",
      "15ConsensusselfRecall.csv\r\n",
      "15ConsensusselfResults.csv\r\n",
      "consensusandnonData.csv\r\n",
      "consensusandnonDataFeatures.csv\r\n",
      "consensusandnonDataFeaturesSVM.csv\r\n",
      "consensusandnonLabels.csv\r\n",
      "consensusandnonLabels.csv.joblib\r\n",
      "consensusandnonLabels.csvselfF1.csv\r\n",
      "consensusandnonLabels.csvselfPrecision.csv\r\n",
      "consensusandnonLabels.csvselfRecall.csv\r\n",
      "consensusandnonLabels.csvselfResults.csv\r\n",
      "newDataPrepSVM.py\r\n",
      "OCSVM.py\r\n",
      "rawDataToConsensus.py\r\n",
      "sequenceToDataset.py\r\n",
      "Untitled.ipynb\r\n"
     ]
    }
   ],
   "source": [
    "ls"
   ]
  },
  {
   "cell_type": "code",
   "execution_count": null,
   "metadata": {},
   "outputs": [],
   "source": []
  }
 ],
 "metadata": {
  "kernelspec": {
   "display_name": "Python 3",
   "language": "python",
   "name": "python3"
  },
  "language_info": {
   "codemirror_mode": {
    "name": "ipython",
    "version": 3
   },
   "file_extension": ".py",
   "mimetype": "text/x-python",
   "name": "python",
   "nbconvert_exporter": "python",
   "pygments_lexer": "ipython3",
   "version": "3.6.8"
  }
 },
 "nbformat": 4,
 "nbformat_minor": 2
}
